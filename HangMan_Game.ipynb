{
 "cells": [
  {
   "cell_type": "code",
   "execution_count": null,
   "id": "40c34fac",
   "metadata": {},
   "outputs": [],
   "source": []
  },
  {
   "cell_type": "code",
   "execution_count": 1,
   "id": "543e3e55",
   "metadata": {},
   "outputs": [
    {
     "name": "stdout",
     "output_type": "stream",
     "text": [
      "welcome to the game\n",
      "DO you want to start game : Enter yes or no : yes\n",
      "['watermelon']\n",
      "_ _ _ _ _ _ _ _ _ _ enter the alphabet you guess: w\n"
     ]
    },
    {
     "ename": "TypeError",
     "evalue": "replace expected at least 2 arguments, got 1",
     "output_type": "error",
     "traceback": [
      "\u001b[1;31m---------------------------------------------------------------------------\u001b[0m",
      "\u001b[1;31mTypeError\u001b[0m                                 Traceback (most recent call last)",
      "Cell \u001b[1;32mIn[1], line 41\u001b[0m\n\u001b[0;32m     37\u001b[0m         \u001b[38;5;28mprint\u001b[39m(i,end\u001b[38;5;241m=\u001b[39m\u001b[38;5;124m\"\u001b[39m\u001b[38;5;124m \u001b[39m\u001b[38;5;124m\"\u001b[39m)\n\u001b[0;32m     38\u001b[0m \u001b[38;5;66;03m#         print(result)\u001b[39;00m\n\u001b[0;32m     39\u001b[0m \u001b[38;5;66;03m# #         print(\"_\",end=\" \")\u001b[39;00m\n\u001b[1;32m---> 41\u001b[0m     User_input()\n",
      "Cell \u001b[1;32mIn[1], line 18\u001b[0m, in \u001b[0;36mUser_input\u001b[1;34m()\u001b[0m\n\u001b[0;32m     16\u001b[0m \u001b[38;5;28;01mif\u001b[39;00m guess \u001b[38;5;129;01min\u001b[39;00m random_value[\u001b[38;5;241m0\u001b[39m]:\n\u001b[0;32m     17\u001b[0m     guess_value_index \u001b[38;5;241m=\u001b[39m random_value[\u001b[38;5;241m0\u001b[39m]\u001b[38;5;241m.\u001b[39mindex(guess)\n\u001b[1;32m---> 18\u001b[0m     random_value[\u001b[38;5;241m0\u001b[39m]\u001b[38;5;241m.\u001b[39mreplace(guess_value_index,)\n\u001b[0;32m     19\u001b[0m     \u001b[38;5;28;01mfor\u001b[39;00m i \u001b[38;5;129;01min\u001b[39;00m \u001b[38;5;28mrange\u001b[39m(random_value[\u001b[38;5;241m0\u001b[39m]):\n\u001b[0;32m     20\u001b[0m         \u001b[38;5;28;01mif\u001b[39;00m i \u001b[38;5;241m==\u001b[39m guess_value_index:\n",
      "\u001b[1;31mTypeError\u001b[0m: replace expected at least 2 arguments, got 1"
     ]
    }
   ],
   "source": [
    "import random \n",
    "\n",
    "print(\"welcome to the game\")\n",
    "words = \"\"\"hanzla kashif Nasreen hassan gulfam umair mahteer rohan mango apple grapes strawberry orange watermelon \n",
    "        melon salman babarazam shaheen rizwan abdullah zohaib kohli rohit bumrah kuldeep dhoni afridi shoaibakhtar inzamam\n",
    "        imamulhaq saud nawaz shadab harisrauf iftikhar naseem gurbaz australia pakistan india africa newzealand srilanka\n",
    "               \"\"\"\n",
    "word_list = words.split()\n",
    "\n",
    "# list = ['hanzla','kashif',]\n",
    "\n",
    "def User_input():\n",
    "    chances = len(random_value[0])+2\n",
    "    while chances:\n",
    "        guess = input('enter the alphabet you guess: ')\n",
    "        if guess in random_value[0]:\n",
    "            guess_value_index = random_value[0].index(guess)\n",
    "            random_value[0].replace(guess_value_index,)\n",
    "            for i in range(random_value[0]):\n",
    "                if i == guess_value_index:\n",
    "                    print(guess,end=\" \")\n",
    "                else:\n",
    "                    print(\"_\",end=\" \")\n",
    "                \n",
    "\n",
    "value = input(\"DO you want to start game : Enter yes or no : \")\n",
    "lower_case = value.lower()\n",
    "\n",
    "if lower_case == 'yes':\n",
    "    random_value = random.choice(word_list).split()\n",
    "    print(random_value)\n",
    "    result = []\n",
    "    for i in random_value[0]:\n",
    "        result.append(\"_\")\n",
    "#     print(result[:])\n",
    "    for i in result:\n",
    "        print(i,end=\" \")\n",
    "#         print(result)\n",
    "# #         print(\"_\",end=\" \")\n",
    "        \n",
    "    User_input()"
   ]
  },
  {
   "cell_type": "code",
   "execution_count": null,
   "id": "a8770bef",
   "metadata": {},
   "outputs": [],
   "source": []
  }
 ],
 "metadata": {
  "kernelspec": {
   "display_name": "Python 3 (ipykernel)",
   "language": "python",
   "name": "python3"
  },
  "language_info": {
   "codemirror_mode": {
    "name": "ipython",
    "version": 3
   },
   "file_extension": ".py",
   "mimetype": "text/x-python",
   "name": "python",
   "nbconvert_exporter": "python",
   "pygments_lexer": "ipython3",
   "version": "3.11.5"
  }
 },
 "nbformat": 4,
 "nbformat_minor": 5
}
